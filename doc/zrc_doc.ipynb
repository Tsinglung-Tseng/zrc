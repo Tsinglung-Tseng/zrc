{
 "cells": [
  {
   "cell_type": "markdown",
   "metadata": {},
   "source": [
    "# Install\n",
    "\n",
    "pip install -e . --user\n",
    "\n",
    "\n",
    "\n",
    "# ZRC Roadmap\n",
    "* PET系统定义\n",
    "* 投影数据预处理\n",
    "    * LOR\n",
    "* 任务管理\n",
    "* 消息推送\n",
    "\n",
    "\n",
    "# 设计思路\n",
    "* 所有的数据结构基于numpy\n",
    "* 所有的dataclass 基于 array\n",
    "* 能向量化的操作一定向量化\n",
    "* 用FP的方法组合对array的向量化操作"
   ]
  },
  {
   "cell_type": "code",
   "execution_count": 1,
   "metadata": {},
   "outputs": [],
   "source": [
    "import os\n",
    "\n",
    "os.environ[\"CUDA_VISIBLE_DEVICES\"] = \"-1\"\n",
    "\n",
    "import numpy as np\n",
    "import pandas as pd\n",
    "import matplotlib.pyplot as plt\n",
    "import plotly.graph_objects as go\n",
    "\n",
    "from zrc.functools import Pair, List\n",
    "from zrc.primitives import Cartesian3, Array"
   ]
  },
  {
   "cell_type": "markdown",
   "metadata": {},
   "source": [
    "## Functools\n",
    "\n",
    "基础元素的组合逻辑\n",
    "\n",
    "### Pair \n",
    "把两个元素并列，组成一个有顺序的对，并且支持对序对进行相同的操作。car/cdr 分别是第一个/第二个元素。\n",
    "\n",
    "Pair 满足闭包，可以嵌套地构造更复杂的结构。"
   ]
  },
  {
   "cell_type": "code",
   "execution_count": 2,
   "metadata": {},
   "outputs": [
    {
     "data": {
      "text/plain": [
       "Array <[  0   2   4   6   8  10  12  14  16  18  20  22  24  26  28  30  32  34\n",
       "  36  38  40  42  44  46  48  50  52  54  56  58  60  62  64  66  68  70\n",
       "  72  74  76  78  80  82  84  86  88  90  92  94  96  98 100 102 104 106\n",
       " 108 110 112 114 116 118 120 122 124 126 128 130 132 134 136 138 140 142\n",
       " 144 146 148 150 152 154 156 158 160 162 164 166 168 170 172 174 176 178\n",
       " 180 182 184 186 188 190 192 194 196 198]>"
      ]
     },
     "execution_count": 2,
     "metadata": {},
     "output_type": "execute_result"
    }
   ],
   "source": [
    "Pair(\n",
    "    Array(np.arange(100)),\n",
    "    Array(np.arange(100)).map(lambda x: x*2)\n",
    ").map(\n",
    "    lambda x: x\n",
    ").cdr"
   ]
  },
  {
   "cell_type": "markdown",
   "metadata": {},
   "source": [
    "## List"
   ]
  },
  {
   "cell_type": "code",
   "execution_count": null,
   "metadata": {},
   "outputs": [],
   "source": []
  },
  {
   "cell_type": "code",
   "execution_count": null,
   "metadata": {},
   "outputs": [],
   "source": []
  },
  {
   "cell_type": "markdown",
   "metadata": {},
   "source": [
    "## Cartesian3"
   ]
  },
  {
   "cell_type": "code",
   "execution_count": 3,
   "metadata": {},
   "outputs": [],
   "source": [
    "c3 = Cartesian3(\n",
    "    np.array([1,2,3,4]),\n",
    "    np.array([5,6,7,8]),\n",
    "    np.array([9,10,11,12])\n",
    ")"
   ]
  },
  {
   "cell_type": "code",
   "execution_count": 4,
   "metadata": {},
   "outputs": [
    {
     "data": {
      "text/plain": [
       "array([2, 4, 6, 8])"
      ]
     },
     "execution_count": 4,
     "metadata": {},
     "output_type": "execute_result"
    }
   ],
   "source": [
    "c3.hmap(lambda x: x*2).x"
   ]
  },
  {
   "cell_type": "code",
   "execution_count": 7,
   "metadata": {},
   "outputs": [
    {
     "data": {
      "text/plain": [
       "array([18, 20, 22, 24])"
      ]
     },
     "execution_count": 7,
     "metadata": {},
     "output_type": "execute_result"
    }
   ],
   "source": [
    "c3.map(lambda x: x*2).z"
   ]
  },
  {
   "cell_type": "code",
   "execution_count": null,
   "metadata": {},
   "outputs": [],
   "source": []
  }
 ],
 "metadata": {
  "kernelspec": {
   "display_name": "Python 3",
   "language": "python",
   "name": "python3"
  },
  "language_info": {
   "codemirror_mode": {
    "name": "ipython",
    "version": 3
   },
   "file_extension": ".py",
   "mimetype": "text/x-python",
   "name": "python",
   "nbconvert_exporter": "python",
   "pygments_lexer": "ipython3",
   "version": "3.8.5"
  }
 },
 "nbformat": 4,
 "nbformat_minor": 2
}
